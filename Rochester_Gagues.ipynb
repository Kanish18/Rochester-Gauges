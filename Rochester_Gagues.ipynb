{
  "nbformat": 4,
  "nbformat_minor": 0,
  "metadata": {
    "colab": {
      "provenance": [],
      "toc_visible": true
    },
    "kernelspec": {
      "name": "python3",
      "display_name": "Python 3"
    },
    "language_info": {
      "name": "python"
    }
  },
  "cells": [
    {
      "cell_type": "code",
      "execution_count": 1,
      "metadata": {
        "id": "rLPBOOPouYNC"
      },
      "outputs": [],
      "source": [
        "import pandas as pd\n"
      ]
    },
    {
      "cell_type": "markdown",
      "source": [
        "Importing ERP data as Data Frame for Wrangling"
      ],
      "metadata": {
        "id": "Cwa8s6sGuvuu"
      }
    },
    {
      "cell_type": "code",
      "source": [
        "df = pd.read_excel(\"/content/DynamicsExport_637717296556323714.xlsx\")\n",
        "df.head"
      ],
      "metadata": {
        "colab": {
          "base_uri": "https://localhost:8080/"
        },
        "id": "BoIaiB27u1c5",
        "outputId": "1c92fc05-e575-4b09-9b48-a2123886fb06"
      },
      "execution_count": 2,
      "outputs": [
        {
          "output_type": "execute_result",
          "data": {
            "text/plain": [
              "<bound method NDFrame.head of      Priority  Overdue  Work cell       Kanban  Card number Item number  \\\n",
              "0          No    False         48  KN-00086009         2312  8688-00001   \n",
              "1          No    False         48  KN-00138571         3506  8687-00010   \n",
              "2          No    False         48  KN-00135866         2858  8680-01348   \n",
              "3          No    False         48  KN-00135868         2860  8680-00155   \n",
              "4          No    False         48  KN-00135869         2861  8680-00157   \n",
              "...       ...      ...        ...          ...          ...         ...   \n",
              "1764       No    False         48  KN-00361947        35924  8640-01119   \n",
              "1765       No    False         48  KN-00364496        36289  8680-01012   \n",
              "1766       No    False         48  KN-00359490        35649  8680-01003   \n",
              "1767       No    False         48  KN-00359491        35650  8680-01003   \n",
              "1768       No    False         48  KN-00362503        36012  8680-01019   \n",
              "\n",
              "      Job quantity Job status Size Handling unit status  ...  \\\n",
              "0              100  Completed    A              Emptied  ...   \n",
              "1              100  Completed    #              Emptied  ...   \n",
              "2                1  Completed    C              Emptied  ...   \n",
              "3               20  Completed    B              Emptied  ...   \n",
              "4               10  Completed    B              Emptied  ...   \n",
              "...            ...        ...  ...                  ...  ...   \n",
              "1764            10  Completed    B              Emptied  ...   \n",
              "1765            50  Completed    C              Emptied  ...   \n",
              "1766            10  Completed    C              Emptied  ...   \n",
              "1767            10  Completed    C              Emptied  ...   \n",
              "1768            10  Completed    C              Emptied  ...   \n",
              "\n",
              "     Deliver remainder Unit price Price unit Net amount Sales group  \\\n",
              "0                    0       6.67          1    6670.00          76   \n",
              "1                    0      11.15          1    2787.50          97   \n",
              "2                    0      59.41          1      59.41          97   \n",
              "3                    0      38.50          1     770.00          76   \n",
              "4                    0      46.20          1     462.00          76   \n",
              "...                ...        ...        ...        ...         ...   \n",
              "1764                 0      84.23          1     842.30          97   \n",
              "1765                 0      29.77          1    1488.50          78   \n",
              "1766                 0      29.82          1     298.20          76   \n",
              "1767                 0      29.82          1     298.20          76   \n",
              "1768                 0      46.25          1     462.50          76   \n",
              "\n",
              "     Created by Created date and time Modified by Modified date and time  \\\n",
              "0             ?   2020-11-23 23:19:49           ?    2020-11-23 23:19:49   \n",
              "1             ?   2020-11-23 23:19:49           ?    2020-11-23 23:19:49   \n",
              "2             ?   2020-11-23 23:19:49           ?    2020-11-23 23:19:49   \n",
              "3             ?   2020-11-23 23:19:49           ?    2020-11-23 23:19:49   \n",
              "4             ?   2020-11-23 23:19:49           ?    2020-11-23 23:19:49   \n",
              "...         ...                   ...         ...                    ...   \n",
              "1764  ewikstrom   2021-09-21 21:16:49       WMAPP    2021-09-30 08:14:51   \n",
              "1765   kvincent   2021-09-27 09:46:45       WMAPP    2021-09-30 15:35:35   \n",
              "1766  ewikstrom   2021-09-16 21:16:58       WMAPP    2021-09-30 12:13:19   \n",
              "1767  ewikstrom   2021-09-16 21:17:01       WMAPP    2021-09-30 12:14:16   \n",
              "1768     RGross   2021-09-22 15:32:46       WMAPP    2021-09-30 08:15:45   \n",
              "\n",
              "     Expected start date/time  \n",
              "0         2020-10-22 05:39:39  \n",
              "1         2020-10-22 07:15:33  \n",
              "2         2020-10-23 04:23:37  \n",
              "3         2020-10-23 03:15:44  \n",
              "4         2020-10-23 03:55:22  \n",
              "...                       ...  \n",
              "1764      2021-09-29 12:27:46  \n",
              "1765      2021-09-29 10:01:13  \n",
              "1766      2021-09-29 13:08:35  \n",
              "1767      2021-09-29 13:12:21  \n",
              "1768      2021-09-29 13:01:34  \n",
              "\n",
              "[1769 rows x 42 columns]>"
            ]
          },
          "metadata": {},
          "execution_count": 2
        }
      ]
    },
    {
      "cell_type": "code",
      "source": [],
      "metadata": {
        "id": "73FtId1R85HI"
      },
      "execution_count": 2,
      "outputs": []
    },
    {
      "cell_type": "code",
      "source": [
        "print(df.info())\n",
        "print(df.describe())"
      ],
      "metadata": {
        "colab": {
          "base_uri": "https://localhost:8080/"
        },
        "id": "-qu5C6buvdUu",
        "outputId": "09d097e8-b50d-4e43-8125-8d46048a0ca8"
      },
      "execution_count": 3,
      "outputs": [
        {
          "output_type": "stream",
          "name": "stdout",
          "text": [
            "<class 'pandas.core.frame.DataFrame'>\n",
            "RangeIndex: 1769 entries, 0 to 1768\n",
            "Data columns (total 42 columns):\n",
            " #   Column                     Non-Null Count  Dtype         \n",
            "---  ------                     --------------  -----         \n",
            " 0   Priority                   1769 non-null   object        \n",
            " 1   Overdue                    1769 non-null   bool          \n",
            " 2   Work cell                  1769 non-null   int64         \n",
            " 3   Kanban                     1769 non-null   object        \n",
            " 4   Card number                1769 non-null   int64         \n",
            " 5   Item number                1769 non-null   object        \n",
            " 6   Job quantity               1769 non-null   int64         \n",
            " 7   Job status                 1769 non-null   object        \n",
            " 8   Size                       1769 non-null   object        \n",
            " 9   Handling unit status       1769 non-null   object        \n",
            " 10  Planned period             1769 non-null   datetime64[ns]\n",
            " 11  Ship date                  1759 non-null   datetime64[ns]\n",
            " 12  Due date/time              1769 non-null   datetime64[ns]\n",
            " 13  Completed by               1264 non-null   object        \n",
            " 14  Completed DateTime         1264 non-null   datetime64[ns]\n",
            " 15  Actual prepared date/time  1769 non-null   datetime64[ns]\n",
            " 16  Actual start date/time     1769 non-null   datetime64[ns]\n",
            " 17  Actual end date/time       1769 non-null   datetime64[ns]\n",
            " 18  Name                       1769 non-null   object        \n",
            " 19  Schedule group             1760 non-null   object        \n",
            " 20  Warehouse                  1769 non-null   object        \n",
            " 21  Location                   1769 non-null   object        \n",
            " 22  Good quantity              1769 non-null   int64         \n",
            " 23  Error quantity             1769 non-null   int64         \n",
            " 24  Sales order                1759 non-null   object        \n",
            " 25  Line number                1769 non-null   float64       \n",
            " 26  Customer                   1759 non-null   object        \n",
            " 27  Delivery name              1759 non-null   object        \n",
            " 28  External                   1431 non-null   object        \n",
            " 29  Line status                1759 non-null   object        \n",
            " 30  Requested ship date        1759 non-null   datetime64[ns]\n",
            " 31  Confirmed ship date        1758 non-null   datetime64[ns]\n",
            " 32  Deliver remainder          1769 non-null   int64         \n",
            " 33  Unit price                 1769 non-null   float64       \n",
            " 34  Price unit                 1769 non-null   int64         \n",
            " 35  Net amount                 1769 non-null   float64       \n",
            " 36  Sales group                1744 non-null   object        \n",
            " 37  Created by                 1769 non-null   object        \n",
            " 38  Created date and time      1769 non-null   datetime64[ns]\n",
            " 39  Modified by                1769 non-null   object        \n",
            " 40  Modified date and time     1769 non-null   datetime64[ns]\n",
            " 41  Expected start date/time   1769 non-null   datetime64[ns]\n",
            "dtypes: bool(1), datetime64[ns](12), float64(3), int64(7), object(19)\n",
            "memory usage: 568.5+ KB\n",
            "None\n",
            "       Work cell   Card number  Job quantity  Good quantity  Error quantity  \\\n",
            "count     1769.0   1769.000000   1769.000000    1769.000000     1769.000000   \n",
            "mean        48.0  19613.336914     45.059356      44.569813        0.098926   \n",
            "std          0.0   9394.781760     64.147987      63.147862        2.449454   \n",
            "min         48.0    792.000000      1.000000       1.000000        0.000000   \n",
            "25%         48.0  11257.000000     10.000000      10.000000        0.000000   \n",
            "50%         48.0  20025.000000     20.000000      20.000000        0.000000   \n",
            "75%         48.0  26898.000000     50.000000      50.000000        0.000000   \n",
            "max         48.0  36289.000000    750.000000     750.000000       75.000000   \n",
            "\n",
            "       Line number  Deliver remainder   Unit price   Price unit    Net amount  \n",
            "count   1769.00000        1769.000000  1769.000000  1769.000000   1769.000000  \n",
            "mean       2.12825           0.028265    41.525037     0.994347   2022.357191  \n",
            "std        2.38978           1.188793    30.099836     0.074994   3008.065477  \n",
            "min        0.00000           0.000000     0.000000     0.000000      0.000000  \n",
            "25%        1.00000           0.000000    25.040000     1.000000    436.300000  \n",
            "50%        1.00000           0.000000    35.200000     1.000000    910.200000  \n",
            "75%        2.00000           0.000000    53.720000     1.000000   2189.000000  \n",
            "max       25.00000          50.000000   450.000000     1.000000  41190.000000  \n"
          ]
        }
      ]
    },
    {
      "cell_type": "markdown",
      "source": [
        "Treating Missing values:"
      ],
      "metadata": {
        "id": "0-a9CsY6vxu0"
      }
    },
    {
      "cell_type": "code",
      "source": [
        "print(\"DF Columns:\")\n",
        "print(df.columns.tolist())"
      ],
      "metadata": {
        "colab": {
          "base_uri": "https://localhost:8080/"
        },
        "id": "wAOD_7G0v1rw",
        "outputId": "0bcf2288-a6f0-4ab1-c44c-dd66d0a41a18"
      },
      "execution_count": 4,
      "outputs": [
        {
          "output_type": "stream",
          "name": "stdout",
          "text": [
            "DF Columns:\n",
            "['Priority', 'Overdue', 'Work cell', 'Kanban', 'Card number', 'Item number', 'Job quantity', 'Job status', 'Size', 'Handling unit status', 'Planned period', 'Ship date', 'Due date/time', 'Completed by', 'Completed DateTime', 'Actual prepared date/time', 'Actual start date/time', 'Actual end date/time', 'Name', 'Schedule group', 'Warehouse', 'Location', 'Good quantity', 'Error quantity', 'Sales order', 'Line number', 'Customer', 'Delivery name', 'External', 'Line status', 'Requested ship date', 'Confirmed ship date', 'Deliver remainder', 'Unit price', 'Price unit', 'Net amount', 'Sales group', 'Created by', 'Created date and time', 'Modified by', 'Modified date and time', 'Expected start date/time']\n"
          ]
        }
      ]
    },
    {
      "cell_type": "code",
      "source": [
        "missing_value = df.isnull().sum()\n",
        "print(missing_value)"
      ],
      "metadata": {
        "colab": {
          "base_uri": "https://localhost:8080/"
        },
        "id": "D08XvBO7wGvL",
        "outputId": "89af2fe7-f579-42c9-d321-a99d2b482a8c"
      },
      "execution_count": 5,
      "outputs": [
        {
          "output_type": "stream",
          "name": "stdout",
          "text": [
            "Priority                       0\n",
            "Overdue                        0\n",
            "Work cell                      0\n",
            "Kanban                         0\n",
            "Card number                    0\n",
            "Item number                    0\n",
            "Job quantity                   0\n",
            "Job status                     0\n",
            "Size                           0\n",
            "Handling unit status           0\n",
            "Planned period                 0\n",
            "Ship date                     10\n",
            "Due date/time                  0\n",
            "Completed by                 505\n",
            "Completed DateTime           505\n",
            "Actual prepared date/time      0\n",
            "Actual start date/time         0\n",
            "Actual end date/time           0\n",
            "Name                           0\n",
            "Schedule group                 9\n",
            "Warehouse                      0\n",
            "Location                       0\n",
            "Good quantity                  0\n",
            "Error quantity                 0\n",
            "Sales order                   10\n",
            "Line number                    0\n",
            "Customer                      10\n",
            "Delivery name                 10\n",
            "External                     338\n",
            "Line status                   10\n",
            "Requested ship date           10\n",
            "Confirmed ship date           11\n",
            "Deliver remainder              0\n",
            "Unit price                     0\n",
            "Price unit                     0\n",
            "Net amount                     0\n",
            "Sales group                   25\n",
            "Created by                     0\n",
            "Created date and time          0\n",
            "Modified by                    0\n",
            "Modified date and time         0\n",
            "Expected start date/time       0\n",
            "dtype: int64\n"
          ]
        }
      ]
    },
    {
      "cell_type": "markdown",
      "source": [
        "Filled \"Ship Date\" with forward fill value:"
      ],
      "metadata": {
        "id": "wmu_-1N1BeEQ"
      }
    },
    {
      "cell_type": "code",
      "source": [
        "df['Ship date']\n",
        "df['Ship date'].fillna(method='ffill', inplace=True)\n",
        "print(df['Ship date'].isnull().sum())"
      ],
      "metadata": {
        "colab": {
          "base_uri": "https://localhost:8080/"
        },
        "id": "SOC8VVYczAlH",
        "outputId": "681e1c5d-3d30-49db-fc74-484c21e50eab"
      },
      "execution_count": 6,
      "outputs": [
        {
          "output_type": "stream",
          "name": "stdout",
          "text": [
            "0\n"
          ]
        }
      ]
    },
    {
      "cell_type": "markdown",
      "source": [
        "Filled \"Completed by\" with the mode value:"
      ],
      "metadata": {
        "id": "1E8vY0HVBYEW"
      }
    },
    {
      "cell_type": "code",
      "source": [
        "mode_completed_by = df['Completed by'].mode().iloc[0]\n",
        "df['Completed by'].fillna(mode_completed_by,inplace=True)\n",
        "print(df['Completed by'].isnull().sum())"
      ],
      "metadata": {
        "colab": {
          "base_uri": "https://localhost:8080/"
        },
        "id": "lzukzXTPA0YQ",
        "outputId": "a1a73a77-5797-482b-adbd-a94892d5f63e"
      },
      "execution_count": 7,
      "outputs": [
        {
          "output_type": "stream",
          "name": "stdout",
          "text": [
            "0\n"
          ]
        }
      ]
    },
    {
      "cell_type": "markdown",
      "source": [
        "Filled \"Completed DateTime\" value with \"Actual prepared date/time\":"
      ],
      "metadata": {
        "id": "DTgfSJqgC_4m"
      }
    },
    {
      "cell_type": "code",
      "source": [
        "df['Completed DateTime'].fillna(df['Actual prepared date/time'], inplace=True)\n",
        "print(df['Completed DateTime'].isnull().sum())"
      ],
      "metadata": {
        "colab": {
          "base_uri": "https://localhost:8080/"
        },
        "id": "634W7A9KBnhp",
        "outputId": "ab2ac0ba-2ead-40f3-a595-9f2a2de23c77"
      },
      "execution_count": 8,
      "outputs": [
        {
          "output_type": "stream",
          "name": "stdout",
          "text": [
            "0\n"
          ]
        }
      ]
    },
    {
      "cell_type": "markdown",
      "source": [
        "Filled \"Schedule group\" with forward fill value:"
      ],
      "metadata": {
        "id": "8XxPaxqqC-ww"
      }
    },
    {
      "cell_type": "code",
      "source": [
        "df['Schedule group'].fillna(method='ffill', inplace=True)\n",
        "print(df['Schedule group'].isnull().sum())"
      ],
      "metadata": {
        "colab": {
          "base_uri": "https://localhost:8080/"
        },
        "id": "ekOcwn4ODMxW",
        "outputId": "189b35ff-077b-4777-b530-1a5a82b0cc08"
      },
      "execution_count": 9,
      "outputs": [
        {
          "output_type": "stream",
          "name": "stdout",
          "text": [
            "0\n"
          ]
        }
      ]
    },
    {
      "cell_type": "markdown",
      "source": [
        "Removed \"Sale Order\" and \"Customer\" NAs:"
      ],
      "metadata": {
        "id": "mxhR1JowEbAI"
      }
    },
    {
      "cell_type": "code",
      "source": [
        "df.dropna(subset=['Sales order'], inplace=True)\n",
        "print(df['Sales order'].isnull().sum())\n",
        "df.dropna(subset=['Customer'], inplace=True)\n",
        "df.dropna(subset=['Confirmed ship date'], inplace=True)\n",
        "df.dropna(subset=['Sales group'], inplace=True)\n",
        "print(df['Sales group'].isnull().sum())\n",
        "print(df['Confirmed ship date'].isnull().sum())"
      ],
      "metadata": {
        "colab": {
          "base_uri": "https://localhost:8080/"
        },
        "id": "Cxo1bxZvEV8M",
        "outputId": "558ecc0a-90de-413e-9872-1cbe81914a5f"
      },
      "execution_count": 10,
      "outputs": [
        {
          "output_type": "stream",
          "name": "stdout",
          "text": [
            "0\n",
            "0\n",
            "0\n"
          ]
        }
      ]
    },
    {
      "cell_type": "markdown",
      "source": [
        "Filling Na values with \"Unknown\":"
      ],
      "metadata": {
        "id": "FnGE1Vj3JuUk"
      }
    },
    {
      "cell_type": "code",
      "source": [
        "df[\"External\"].fillna(\"Unknown\", inplace=True)\n",
        "print(df['External'].isnull().sum())"
      ],
      "metadata": {
        "colab": {
          "base_uri": "https://localhost:8080/"
        },
        "id": "0jQHB8VFIM0f",
        "outputId": "dd2ed289-1f90-4183-d364-cfed575819d0"
      },
      "execution_count": 11,
      "outputs": [
        {
          "output_type": "stream",
          "name": "stdout",
          "text": [
            "0\n"
          ]
        }
      ]
    },
    {
      "cell_type": "code",
      "source": [
        "df['Sales group'] = pd.to_numeric(df['Sales group'], errors='coerce')\n",
        "df['Due date/time'] = df['Due date/time'].astype(str)\n",
        "df[['Due Date', ' Due Time']] = df['Due date/time'].str.split(' ', expand=True)\n"
      ],
      "metadata": {
        "id": "t9sMnkJhKzwj"
      },
      "execution_count": 12,
      "outputs": []
    },
    {
      "cell_type": "markdown",
      "source": [
        "Changing Date and Time column to two seprate columns: Loop through columns that has both date & time and droped time column since it wasn't desirable for analysis."
      ],
      "metadata": {
        "id": "paYbeDsQSC9O"
      }
    },
    {
      "cell_type": "code",
      "source": [
        "df['Due date/time'] = df['Due date/time'].astype(str)\n",
        "df[['Due Date', 'Due Time']] = df['Due date/time'].str.split(' ', expand=True)\n",
        "df.drop(['Due Time'], axis=1, inplace=True)\n",
        "print(df.columns)\n"
      ],
      "metadata": {
        "id": "sN4w6QSpSIUs"
      },
      "execution_count": null,
      "outputs": []
    },
    {
      "cell_type": "code",
      "source": [
        "datecols= ['Completed DateTime', 'Actual prepared date/time','Actual start date/time', 'Actual end date/time', 'Created date and time', 'Modified date and time', 'Expected start date/time' ]\n",
        "\n",
        "for item in datecols:\n",
        "  if item in df.columns:\n",
        "    df[item] = df[item].astype(str)\n",
        "    df[[item +'Date', item+'Time']] = df[item].str.split(' ', expand=True)\n",
        "    df.drop([item+'Time'], axis=1, inplace=True)\n"
      ],
      "metadata": {
        "id": "w6XL11419JC9"
      },
      "execution_count": 25,
      "outputs": []
    },
    {
      "cell_type": "code",
      "source": [
        "df.to_excel('ERP_data.xlsx', index=False)"
      ],
      "metadata": {
        "id": "_jTQzWCWFANK"
      },
      "execution_count": 30,
      "outputs": []
    },
    {
      "cell_type": "markdown",
      "source": [
        "# New Section"
      ],
      "metadata": {
        "id": "eqOCC2_pGNvb"
      }
    }
  ]
}